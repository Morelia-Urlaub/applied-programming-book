{
 "cells": [
  {
   "cell_type": "markdown",
   "metadata": {},
   "source": [
    "# Visualisierung\n",
    "\n",
    "Visualisierung ist ein essenzieller Bestandteil der Datenanalyse (oder in Data Science). Sie hilft einen ersten Eindruck über die Daten und deren Beziehung zueinander zu erhalten. Sie dient auch dazu, Ergebnisse mit anderen zu Kommunizieren. Tatsächlich gehören gute Abbildungen zu den wichtigsten Faktoren für eine erfolgreiche Publikation.\n",
    "\n",
    "Hier ist eine Visualisierung von Volkswirtschaftsdaten verschiedener Länder, die den [World Data Visualization Prize 2019](https://wdvp.worldgovernmentsummit.org/) gewonnen hat (https://govdna.frontwise.com)."
   ]
  },
  {
   "cell_type": "code",
   "execution_count": null,
   "metadata": {},
   "outputs": [],
   "source": [
    "%%html\n",
    "<iframe src=\"https://govdna.frontwise.com/#layout/data/country/\" width=\"1024\" height=\"720\"></iframe>"
   ]
  },
  {
   "cell_type": "markdown",
   "metadata": {},
   "source": [
    "Um durch eine Abbildung erfolgreich Informationen zu kommunizieren, sollte man folgende Punkte im Hinterkopf behalten:\n",
    "\n",
    "-   Prinzip der proportionalen Tinte: Die dargestellte Größe sollte proportional zur für die Darstellung benutzten Fläche sein. Beachte aber, dass Menschen Längen besser vergleichen können als Flächeninhalte!\n",
    "-   überlappende Daten sichtbar machen\n",
    "-   Stolpersteine bei der Verwendung von Farben:\n",
    "    -   monotone Farbskalen verwenden\n",
    "    -   Farbblindheit beachten! (Okabe & Ito, 2008; [color brewer](http://colorbrewer2.org/))\n",
    "-   Balance zwischen Inhalt und Kontext: maximiere sinnvoll data/ink ratio\n",
    "-   lesbare Beschriftung: Schriftgröße hängt vom Kommunikationsmedium ab!\n",
    "-   Vermeide Linienzeichnungen, gefüllte Flächen sind besser\n",
    "-   Keine 3D Zeichungen!"
   ]
  },
  {
   "cell_type": "markdown",
   "metadata": {},
   "source": [
    "# Visualisierung in Python\n",
    "\n",
    "Die weitverbreiteste Visualisierungspaket für Python ist [matplotlib](https://matplotlib.org/)."
   ]
  },
  {
   "cell_type": "code",
   "execution_count": null,
   "metadata": {},
   "outputs": [],
   "source": [
    "import numpy as np\n",
    "\n",
    "import matplotlib.pyplot as plt"
   ]
  },
  {
   "cell_type": "markdown",
   "metadata": {},
   "source": [
    "Beachte, dass wir das Modul `pyplot` des Pakets `matplotlib` importieren. Dies ist für einfachere interaktive Analysen entworfen."
   ]
  },
  {
   "cell_type": "markdown",
   "metadata": {},
   "source": [
    "## Anatomie einer Abbildung\n",
    "\n",
    "Erstellen wir unsere erste Abbildung:"
   ]
  },
  {
   "cell_type": "code",
   "execution_count": null,
   "metadata": {},
   "outputs": [],
   "source": [
    "# Prepare the data\n",
    "x = np.linspace(0, 2, 100)\n",
    "\n",
    "# Plot the data\n",
    "plt.plot(x, x, label='linear')\n",
    "plt.plot(x, x**2, label='quadratic')\n",
    "\n",
    "# Add a legend\n",
    "plt.legend();"
   ]
  },
  {
   "cell_type": "markdown",
   "metadata": {},
   "source": [
    "Bei diesem einfachen Beispiel haben wir unbewusst gebrauch von einer Menge eingebauten Standardverhalten gemacht, dass sich um die Erstellung aller notwendigen Komponenten der Abbildung kümmert. Um die Logik von `matplotlib` zu verstehen, ist es notwendig sich die Anatomie einer Abbildung anzuschauen:\n",
    "\n",
    "<center>\n",
    "<img src='http://members.cbio.mines-paristech.fr/~nvaroquaux/tmp/matplotlib/_images/anatomy1.png' width='70%'/>\n",
    "<center/>"
   ]
  },
  {
   "cell_type": "markdown",
   "metadata": {},
   "source": [
    "Die beiden wichtigsten Komponenten sind:\n",
    "\n",
    "-   `Figure`: die gesamte Fläche (Fenster, Seite, etc.) auf die etwas gezeichnet wird.\n",
    "    Es ist die Basis für alle Elemente, die wir im Folgenden betrachten. Man kann\n",
    "    mehrere unabhängige Figure Instanzen erstellen und eine Figure kann mehrere \n",
    "    verschieden Sachen beinhalten.\n",
    "-   `Axes`: der Bereich, auf den Daten mit Funktionen wie `plot()` oder `scatter()`\n",
    "    geplottet werden. Dieser Bereich kann Koordinatenaxen mit Beschriftung (`label`) \n",
    "    und `tick`s haben. Auf einer Figure können mehrere Axes sein, also mehrere subplots.\n",
    "\n",
    "Zu diesen beiden grundlegenden Komponenten kommen noch eine vielzahl dazu:\n",
    "\n",
    "-   Jede Achse hat eine x-Achse und eine y-Achse, welche ticks (major und minor \n",
    "    ticklines und ticklabels) haben. Es gibt auch Axis label, title, legend und grid mit denen\n",
    "    man seinen Plot anpassen kann.\n",
    "-   Spines sind die Linien, die die Tickslines verbinden und den Breich, auf dem die Daten\n",
    "    geplottet werden, vom Rest abgrenzen."
   ]
  },
  {
   "cell_type": "code",
   "execution_count": null,
   "metadata": {},
   "outputs": [],
   "source": [
    "# create some data\n",
    "x1, y1 = [1, 2, 3, 4], [10, 20, 25, 30]\n",
    "x2, y2 = [0.3, 3.8, 1.2, 2.5], [11, 25, 9, 26]"
   ]
  },
  {
   "cell_type": "code",
   "execution_count": null,
   "metadata": {},
   "outputs": [],
   "source": [
    "# OOP API example\n",
    "fig = plt.figure()\n",
    "ax = fig.add_subplot(111)\n",
    "ax.plot(x1, y1, color='lightblue', linewidth=3)\n",
    "ax.scatter(x2, y2, color='darkgreen', marker='^')\n",
    "ax.set_xlim(0.0, 4.5);"
   ]
  },
  {
   "cell_type": "code",
   "execution_count": null,
   "metadata": {},
   "outputs": [],
   "source": [
    "# state machine example\n",
    "plt.plot(x1, y1, color='lightblue', linewidth=3)\n",
    "plt.scatter(x2, y2, color='darkgreen', marker='^')\n",
    "plt.xlim(0.0, 4.5);"
   ]
  },
  {
   "cell_type": "markdown",
   "metadata": {},
   "source": [
    "Wie man sieht, ist `plt.xlim` äquivalent zu `ax.set_xlim`. Tatsächlich sind alle Methoden eines Axes Objekts als Funktionen des `pyplot` Moduls implementiert. Hat man mehrere Achen, so wird die Funktion auf die zuletzt erstellte Achse angewendet. Dadurch wird der Code für einfache Plots sauberer.\n",
    "\n",
    "Hat man mehrere Achse, so ist es häufig besser, Axes Objekte zu verwenden. Dadurch bleibt der Code übersichtlicher und expliziter.\n",
    "\n",
    "Um sich mit den Anpassungsmöglichkeiten vertraut zu machen, ist die beste Möglichkeit, sich die [Matplotlib gallery](https://matplotlib.org/gallery.html) anzuschauen und von den Codebeispielen zu lernen."
   ]
  },
  {
   "cell_type": "markdown",
   "metadata": {},
   "source": [
    "## Erstellen einer Abbildung\n",
    "\n",
    "Eine Figure wird durch `plt.figure` erstellt."
   ]
  },
  {
   "cell_type": "code",
   "execution_count": null,
   "metadata": {},
   "outputs": [],
   "source": [
    "plt.figure()"
   ]
  },
  {
   "cell_type": "markdown",
   "metadata": {},
   "source": [
    "Allerdings enthält die Figure noch keine Elemente, die gezeichnet werden sollen. Um einen Plot zu erstellen, muss man erst ein Axes Objekt erzeugen. Das macht man mit `fig.add_subpot()` oder `plt.subplot`."
   ]
  },
  {
   "cell_type": "code",
   "execution_count": null,
   "metadata": {},
   "outputs": [],
   "source": [
    "fig = plt.figure()\n",
    "ax = fig.add_subplot(111);"
   ]
  },
  {
   "cell_type": "markdown",
   "metadata": {},
   "source": [
    "### Was ist ein subplot?\n",
    "\n",
    "Ein subplot ist ein Axes Objekt. Mit der Methode `fig.add_subplot(111)` erstellt man ein neues Axes Objekt in der Abbildung. Das Argument `111` bedeutet, dass wir die subplots in einem 1x1 Gitter plazieren wollen und wir die erste Axes erstellen.\n",
    "\n",
    "Möchten wir je 3 Subplots übereinander in zwei Spalten haben (also 6 Axes insgesammt), so müssten wir für das 4. Axes Objekt folgenden Code verwenden\n",
    "\n",
    "```python\n",
    "fig.add_subplot(324)\n",
    "# oder\n",
    "fig.add_subplot(3, 2, 4)\n",
    "```\n",
    "\n",
    "Man kann auch Figure Objekt und alle Axes auf einmal erstellen.\n",
    "\n",
    "```python\n",
    "fig, axs = plt.subplots(3, 2)\n",
    "```\n",
    "`axs` ist ein 2D Array, der die einzelnen Axes Objekte enthält."
   ]
  },
  {
   "cell_type": "code",
   "execution_count": null,
   "metadata": {},
   "outputs": [],
   "source": [
    "f, a = plt.subplots(3, 2);"
   ]
  },
  {
   "cell_type": "markdown",
   "metadata": {},
   "source": [
    "Man kann sehen, dass bei vielen subplots sich die Achsenbeschriftungen überlagern. Dies kann man beheben, indem man am Schluß den Befehl `plt.tight_layout()` verwendet."
   ]
  },
  {
   "cell_type": "code",
   "execution_count": null,
   "metadata": {},
   "outputs": [],
   "source": [
    "f, a = plt.subplots(3, 2);\n",
    "plt.tight_layout()"
   ]
  },
  {
   "cell_type": "markdown",
   "metadata": {},
   "source": [
    "### Wie verändere ich die Größe der Abbildung?\n",
    "\n",
    "Da mit vielen subplots die Achsenbeschriftung immer problematischer wird, muss man die Abbildungsgröße anpassen. Diese setzt man bei erstellen des Figure Objekts durch das Argument `figsize`"
   ]
  },
  {
   "cell_type": "code",
   "execution_count": null,
   "metadata": {},
   "outputs": [],
   "source": [
    "fig = plt.figure(figsize=(10, 1))\n",
    "fig.add_subplot(111);"
   ]
  },
  {
   "cell_type": "markdown",
   "metadata": {},
   "source": [
    "### Plotting Routinen\n",
    "\n",
    "Die eigentliche Visualisierng der Daten wird durch Plottingmethoden des Axes Objekts erstellt.\n",
    "\n",
    "#### 1D Daten\n",
    "\n",
    "Methode   |   Beschreibung\n",
    "----------|---------------\n",
    "[ax.plot()](https://matplotlib.org/api/_as_gen/matplotlib.pyplot.bar.html) | Line plot\n",
    "[ax.scatter()](https://matplotlib.org/api/_as_gen/matplotlib.pyplot.scatter.html) | scatter plot\n",
    "[ax.bar()](https://matplotlib.org/api/_as_gen/matplotlib.pyplot.bar.html)  | Vertical rectangles\n",
    "[ax.barh()](https://matplotlib.org/api/_as_gen/matplotlib.pyplot.barh.html) | Horizontal rectangles\n",
    "[ax.axhline()](https://matplotlib.org/api/_as_gen/matplotlib.pyplot.axhline.html) | Horizontal line across axes\n",
    "[ax.axvline()](https://matplotlib.org/api/_as_gen/matplotlib.pyplot.axvline.html) | Vertical line across axes\n",
    "[ax.fill()](https://matplotlib.org/api/_as_gen/matplotlib.pyplot.fill.html) | Filled polygons\n",
    "[ax.fill_between()](https://matplotlib.org/api/_as_gen/matplotlib.pyplot.fill_between.html) | Fill between y-values and 0\n",
    "[ax.stackplot()](https://matplotlib.org/api/_as_gen/matplotlib.pyplot.stackplot.html) | Stack plot"
   ]
  },
  {
   "cell_type": "code",
   "execution_count": null,
   "metadata": {},
   "outputs": [],
   "source": [
    "plt.figure(figsize=(12, 7))\n",
    "\n",
    "plt.subplot(241)\n",
    "x = 2*np.pi * np.arange(0, 1., .01)\n",
    "plt.plot(x, np.sin(x))\n",
    "plt.plot(x, np.cos(x))\n",
    "plt.title(\"plot\")\n",
    "\n",
    "plt.subplot(242)\n",
    "x = np.random.randn(50)\n",
    "y = 3 * x + 1 + 2. * np.random.randn(len(x))\n",
    "plt.scatter(x, y)\n",
    "plt.title(\"scatter\")\n",
    "\n",
    "plt.subplot(243)\n",
    "plt.bar([1, 2, 3], [3.4, 1.5, 5.2], tick_label=[\"A\", \"B\", \"C\"])\n",
    "plt.title(\"bar\")\n",
    "\n",
    "plt.subplot(244)\n",
    "plt.barh([1, 2, 3], [3.4, 1.5, 5.2], tick_label=[\"A\", \"B\", \"C\"])\n",
    "plt.title(\"barh\")\n",
    "\n",
    "plt.subplot(245)\n",
    "plt.axhline(2)\n",
    "plt.axvline(2.0)\n",
    "plt.title('axhline axvline')\n",
    "\n",
    "plt.subplot(246)\n",
    "x = np.cos(2*np.pi * np.arange(0, 1., 1 / 6.))\n",
    "y = np.sin(2*np.pi * np.arange(0, 1., 1 / 6.))\n",
    "plt.fill(x, y)\n",
    "plt.title('fill')\n",
    "\n",
    "plt.subplot(247)\n",
    "x = 2*np.pi * np.arange(0, 1., .01)\n",
    "plt.fill_between(x, np.sin(x), .5 * np.sin(x))\n",
    "plt.title(\"fill_between\")\n",
    "\n",
    "plt.subplot(248)\n",
    "x = 2 * np.pi * np.arange(0, 1., .01)\n",
    "plt.stackplot(x, 3 * x, x**2, baseline='wiggle')\n",
    "plt.title(\"stackplot\")\n",
    "\n",
    "plt.tight_layout()"
   ]
  },
  {
   "cell_type": "markdown",
   "metadata": {},
   "source": [
    "#### 2D Daten\n",
    "\n",
    "Methode   |   Beschreibung\n",
    "----------|---------------\n",
    "[ax.pcolormesh()](https://matplotlib.org/api/_as_gen/matplotlib.pyplot.pcolormesh.html) | Pseudocolor plot\n",
    "[ax.contour()](https://matplotlib.org/api/_as_gen/matplotlib.pyplot.contour.html) | contour plot\n",
    "[ax.contourf()](https://matplotlib.org/api/_as_gen/matplotlib.pyplot.contourf.html) | Filled contour plot\n",
    "[ax.imshow()](https://matplotlib.org/api/_as_gen/matplotlib.pyplot.imshow.html) | Show image"
   ]
  },
  {
   "cell_type": "code",
   "execution_count": null,
   "metadata": {},
   "outputs": [],
   "source": [
    "x = np.linspace(-np.pi, np.pi, 20)\n",
    "y = np.linspace(-np.pi, np.pi, 20)\n",
    "c = np.sin(x) * np.cos(y + np.pi / 2)[:, np.newaxis]\n",
    "\n",
    "plt.figure(figsize=(7, 7))\n",
    "\n",
    "plt.subplot(221); plt.pcolormesh(x, y, c); plt.title('pcolormesh')\n",
    "plt.subplot(222); plt.contour(x, y, c); plt.title('contour')\n",
    "plt.subplot(223); plt.contourf(x, y, c); plt.title('contourf')\n",
    "plt.subplot(224); plt.imshow(c); plt.title('imgshow');\n",
    "\n",
    "plt.tight_layout()"
   ]
  },
  {
   "cell_type": "markdown",
   "metadata": {},
   "source": [
    "#### Verteilungen und Vektordaten\n",
    "\n",
    "Methode   | Beschreibung\n",
    "----------|-------------\n",
    "[ax.arrow()](https://matplotlib.org/api/_as_gen/matplotlib.pyplot.arrow.html) | Arrow\n",
    "[ax.quiver()](https://matplotlib.org/api/_as_gen/matplotlib.pyplot.quiver.html) | 2D field of arrows\n",
    "[ax.streamplot()](https://matplotlib.org/api/_as_gen/matplotlib.pyplot.streamplot.html) | 2D vector fields\n",
    "[ax.hist()](https://matplotlib.org/api/_as_gen/matplotlib.pyplot.hist.html) | Histogram\n",
    "[ax.boxplot()](https://matplotlib.org/api/_as_gen/matplotlib.pyplot.boxplot.html) | Boxplot\n",
    "[ax.violinplot()](https://matplotlib.org/api/_as_gen/matplotlib.pyplot.violinplot.html) | Violinplot"
   ]
  },
  {
   "cell_type": "code",
   "execution_count": null,
   "metadata": {},
   "outputs": [],
   "source": [
    "x = np.linspace(-np.pi, np.pi, 20)\n",
    "y = np.linspace(-np.pi, np.pi, 20)\n",
    "u = np.cos(x) * np.abs(y[:, np.newaxis] - np.pi / 2 * np.sin(x) - 1)\n",
    "v = np.sin(x) * np.abs(y[:, np.newaxis] - np.pi / 2 * np.sin(x))\n",
    "\n",
    "plt.figure(figsize=(10, 7))\n",
    "\n",
    "plt.subplot(2, 3, 1); plt.arrow(0, 0, .5, .8, width=.03); plt.title('arrow')\n",
    "plt.subplot(2, 3, 2); plt.quiver(x, y, u, v); plt.title('quiver')\n",
    "plt.subplot(2, 3, 3); plt.streamplot(x, y, u, v); plt.title('streamplot')\n",
    "plt.subplot(2, 3, 4); plt.hist(u.flatten()); plt.title('hist')\n",
    "plt.subplot(2, 3, 5); plt.boxplot(u[:, ::4]); plt.title('boxplot')\n",
    "plt.subplot(2, 3, 6); plt.violinplot(u.reshape(-1, 4), showextrema=False, showmedians=True); plt.title('violinplot');\n",
    "\n",
    "plt.tight_layout();"
   ]
  },
  {
   "cell_type": "markdown",
   "metadata": {},
   "source": [
    "#### Karten\n",
    "\n",
    "Um Karten zu plotten brauchen wir ein zusätzliches Paket. Hier empfielt sich [cartopy](https://scitools.org.uk/cartopy/docs/latest/). Konkret müssen wir eine Kartenprojektion festlegen, hier verwenden wir [Mollweide](https://scitools.org.uk/cartopy/docs/latest/crs/projections.html#mollweide)."
   ]
  },
  {
   "cell_type": "code",
   "execution_count": null,
   "metadata": {},
   "outputs": [],
   "source": [
    "import cartopy.crs as ccrs\n",
    "\n",
    "\n",
    "def sample_data(shape=(73, 145)):\n",
    "    \"\"\"Return ``lons``, ``lats`` and ``data`` of some fake data.\"\"\"\n",
    "    nlats, nlons = shape\n",
    "    lats = np.linspace(-np.pi / 2, np.pi / 2, nlats)\n",
    "    lons = np.linspace(0, 2 * np.pi, nlons)\n",
    "    lons, lats = np.meshgrid(lons, lats)\n",
    "    wave = 0.75 * (np.sin(2 * lats) ** 8) * np.cos(4 * lons)\n",
    "    mean = 0.5 * np.cos(2 * lats) * ((np.sin(2 * lats)) ** 2 + 2)\n",
    "\n",
    "    lats = np.rad2deg(lats)\n",
    "    lons = np.rad2deg(lons)\n",
    "    data = wave + mean\n",
    "\n",
    "    return lons, lats, data\n",
    "\n",
    "\n",
    "fig = plt.figure(figsize=(10, 5))\n",
    "ax = fig.add_subplot(1, 1, 1, projection=ccrs.Mollweide())\n",
    "\n",
    "lons, lats, data = sample_data()\n",
    "\n",
    "ax.contourf(lons, lats, data,\n",
    "            transform=ccrs.PlateCarree(),\n",
    "            cmap='nipy_spectral')\n",
    "ax.coastlines()\n",
    "ax.set_global()"
   ]
  },
  {
   "cell_type": "markdown",
   "metadata": {},
   "source": [
    "Natürlich sind das nicht alle Funktionen. Schau in der [Matplotlib gallery](https://matplotlib.org/gallery.html) nach weiteren Beispielen."
   ]
  },
  {
   "cell_type": "markdown",
   "metadata": {},
   "source": [
    "## Abbildungen anpassen\n",
    "\n",
    "Um eine aussagekräftige (und akzeptabele) Abbildung zu erhalten fehlen noch Meta daten, wie Achsenbeschriftungen und subplot Titel, sowie möglicherweise Annotationen, also Text um bestimmte Aspekte der Abbildung zu betonen.\n",
    "\n",
    "Alle subplot spezifischen Einstellungen sind als Eigenschaften des Axes Objekts implementiert und können über `ax.set()` gesetzt werden. Hier ist eine unvollständige Lister der verfügbaren Eigenschaften.\n",
    "\n",
    "Property | Type | Bedeutung\n",
    "---------|------|----------\n",
    "alpha |float| Transparenz, zwischen 0 und 1\n",
    "aspect |{'auto', 'equal'} or num| Verhältnis der Achseskalierung\n",
    "facecolor |color| Farbe des Hintergrunds\n",
    "frame_on |bool| Rahmen um den Datenbereich\n",
    "position |[left, bottom, width, height] or Bbox| Position der Achse auf der Abbildung\n",
    "rasterized |bool or None| Erzwingt Bitmap output in Vektorgraphik Formaten\n",
    "title |str| Titel des subplots\n",
    "xlabel |str| Beschriftung X Achse\n",
    "xlim |(left: float, right: float)| Datenbereich der Achse\n",
    "xscale |{\"linear\", \"log\", \"symlog\", \"logit\", ...}| Achsenskalierung\n",
    "xticklabels |List[str]| Tick Beschriftung\n",
    "xticks |list| Position der Ticks\n",
    "ylabel |str| Beschriftung Y Achse\n",
    "ylim |(bottom: float, top: float)| Datenbereich der Achse\n",
    "yscale |{\"linear\", \"log\", \"symlog\", \"logit\", ...}| Achsenskalierung\n",
    "yticklabels |List[str]| Tick Beschriftung\n",
    "yticks |list| Position der Ticks"
   ]
  },
  {
   "cell_type": "markdown",
   "metadata": {},
   "source": [
    "Diese Attribute kann man entweder über `ax.set()` setzen, oder z.B. über `ax.set_xlabel()` oder `plt.xlabel()`."
   ]
  },
  {
   "cell_type": "markdown",
   "metadata": {},
   "source": [
    "## Hinweis zu Abbildungen für Publikationen\n",
    "\n",
    "Generell empfielt sich, für Publikationen oder Vorträge Vektorgraphiken zu erstellen. Allerdings können diese sehr groß werden, wenn die Darstellung der Daten sehr viel Struktur hat, also aus vielen Objekten besteht. Dies kann zum Beispiel der Fall sein für scatter plots mir sehr vielen Datenpunkten oder pcolormesh plots von großen Arrays. Hier empfielt es sich, im plotting Befehl, also `ax.scatter()` oder `ax.pcolormesh()` das Argument `rasterized=True` mit anzugeben. Dadurch wird nur die Darstellung der Daten in ein kompaktes Bitmap umgewandelt, die Achsenbeschriftung, Titel, etc. bleibt weiterhin eine Vektorgraphik. Das spart sehr viel Speicherplatz und stellt sicher, dass das fertige PDF Dokument flüssig darstellbar ist!"
   ]
  },
  {
   "cell_type": "markdown",
   "metadata": {},
   "source": [
    "## Abbildungen abspeicher\n",
    "\n",
    "Um die Abbildung in einem Vortrag oder einer Publikation zu verwenden, muss man sie natürlich abspeichern. Dazu verwendet man den Befehl `plt.savefig()`. Als Argument gibt man den Dateinamen an. Die Dateiendung bestimmt das verwendete Format. So kann man einen Abbildung z.B. als `png`, `jpg` oder `svg` abspeichern. Das letztere ist ein Vektorgraphik Format. Wird eine Rastergraphik erstellt, so kann man optional das Argument `dpi` angeben."
   ]
  },
  {
   "cell_type": "code",
   "execution_count": null,
   "metadata": {},
   "outputs": [],
   "source": [
    "fig = plt.figure(figsize=(10, 5))\n",
    "ax = fig.add_subplot(1, 1, 1, projection=ccrs.Mollweide())\n",
    "\n",
    "lons, lats, data = sample_data()\n",
    "\n",
    "ax.pcolormesh(lons, lats, data,\n",
    "            transform=ccrs.PlateCarree(),\n",
    "            cmap='nipy_spectral',\n",
    "            rasterized=True\n",
    ")\n",
    "ax.coastlines()\n",
    "ax.set_global()\n",
    "\n",
    "plt.savefig('for_web.png', dpi=72)\n",
    "plt.savefig('for_publication.png', dpi=300)\n",
    "plt.savefig('vector.svg')"
   ]
  },
  {
   "cell_type": "code",
   "execution_count": null,
   "metadata": {},
   "outputs": [],
   "source": []
  }
 ],
 "metadata": {
  "kernelspec": {
   "display_name": "Python [conda env:py3_std]",
   "language": "python",
   "name": "conda-env-py3_std-py"
  },
  "language_info": {
   "codemirror_mode": {
    "name": "ipython",
    "version": 3
   },
   "file_extension": ".py",
   "mimetype": "text/x-python",
   "name": "python",
   "nbconvert_exporter": "python",
   "pygments_lexer": "ipython3",
   "version": "3.6.8"
  }
 },
 "nbformat": 4,
 "nbformat_minor": 2
}
