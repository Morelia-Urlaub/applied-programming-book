{
 "cells": [
  {
   "cell_type": "markdown",
   "metadata": {},
   "source": [
    "This chapter introduces the basic and most common elements of a structured programming language and also introduces the less intuitive programming paradigm of object-oriented programming. The structure of the chapter is\n",
    "\n",
    "* [Data Types](basics/2_data_types) introduces the basics data types common to most programming languages and a few types that are special to python\n",
    "* [Program Flow](basics/3_program_flow_and_structure) introduces constructs typical for structured programming languages such as branching and loops\n",
    "* [Functions](basics/4_functions) introduces the concept of functions for code re-usability and how in Python functions are defined\n",
    "* [Object-oriented Programming](basics/5_oop) gives a glimpse on the idea of bundling data structures and functions into objects."
   ]
  },
  {
   "cell_type": "markdown",
   "metadata": {},
   "source": [
    "Although we are using Python as an example language throughout this book, the general ideas are not specific or limited to Python. \n",
    "\n",
    "But before we dive in, let's start with some fundamentals"
   ]
  },
  {
   "cell_type": "markdown",
   "metadata": {},
   "source": [
    "---"
   ]
  },
  {
   "cell_type": "markdown",
   "metadata": {},
   "source": [
    "# Comments\n",
    "Comments are lines in the source code that are not interpreted by the Python interpreter.\n",
    "Their purpose is solely to make the source code more readable and understandable for other programmer, but also for yourself.\n",
    "Typically, after a week or two, a programmer is not able to remember the details of an implementation he has coded himself.\n",
    "So comments help you to remember why you have chosen a particular solution to a problem.\n",
    "However, to many comments make the code less readable.\n",
    "So a good balance is needed.\n",
    "A general rule is to add comments where you made a non-trivial decision on a particular choice of implementation.\n",
    "\n",
    "In Python a comment starts with `#`: \n",
    "\n",
    "```python\n",
    "# This is a comment\n",
    "spam = 1  # second comment...\n",
    "          # ... and the third!\n",
    "\"# this is NOT a comment!\"\n",
    "```\n",
    "Note that the last line does not contain a comment.\n",
    "Double or single quotes (`\"`, `'`) enclose a text sequence, typically called `string`, which we will learn more about in the next section."
   ]
  },
  {
   "cell_type": "markdown",
   "metadata": {},
   "source": [
    "---"
   ]
  },
  {
   "cell_type": "markdown",
   "metadata": {},
   "source": [
    "# Expressions\n",
    "Expressions are instructions that take input data, do some operation on it and possibly return some output data.\n",
    "Arithmetic expressions are an example of an expression.\n",
    "But also comparisons or the call to some function are expressions.\n",
    "\n",
    "In Python, expressions can be grouped using brackets and arithmetic expressions follow the same rules as one would expect such as the associative law and commutative law.\n",
    "\n",
    "Here are some examples:\n",
    "\n",
    "```python\n",
    "(50 - 5 * 6) / 7\n",
    "17 // 3\n",
    "17 % 3.0\n",
    "16. ** 0.5\n",
    "(5+1j) * 1j\n",
    "5. == 5\n",
    "(5 > 3) and (8 < 10)\n",
    "```\n",
    "\n",
    "Logical expression, that are expression which are either `True` or `False`, can be combined using logical operators such as `and` or `or`."
   ]
  },
  {
   "cell_type": "markdown",
   "metadata": {},
   "source": [
    "---"
   ]
  },
  {
   "cell_type": "markdown",
   "metadata": {},
   "source": [
    "# Operators\n",
    "\n",
    "Here is a list of common operators available on numeric data, for a complete list of operator symbols have a look at the [Python documentation](https://docs.python.org/3/library/operator.html#mapping-operators-to-functions).\n",
    "\n",
    "Operator|Description\n",
    "--------|-------------\n",
    "+       | Summation\n",
    "-       | Subtraction\n",
    "*       | Multiplication\n",
    "/       | Division (in Python 2.x: floor division, if operands are integer)\n",
    "//      | Explicit floor division\n",
    "%       | Modulo for division of integer operands\n",
    "**      | Exponentiation\n",
    "==      | Equal\n",
    "!=      | Unequal\n",
    "+=, -=, *=, /=, //=, ... | Summation, subtraction etc. with simultaneous assignment\n",
    "\n",
    "Some of the operators such as `+` and `*` are also available for sequence data, but we will cover this later.\n",
    "As we will see in the section [object-oriented programming](/basics/5_oop), it is also possible to define a custom meaning of an operator symbol when defining your own data types by implementing special methods."
   ]
  },
  {
   "cell_type": "markdown",
   "metadata": {},
   "source": [
    "---"
   ]
  },
  {
   "cell_type": "markdown",
   "metadata": {},
   "source": [
    "# Assigning variables\n",
    "\n",
    "Variables are symbols, which represent data in the memory. Data can be assigned to symbols with the assignment operator `=`.\n",
    "\n",
    "```python\n",
    "width = 20\n",
    "height = 5 * 9\n",
    "```\n",
    "\n",
    "Assignments can be used straightforward for further calculations. The names, or symbols, defined in the assignment statements above, are used as placeholders for the data they are assigned to.\n",
    "```python\n",
    "width * height\n",
    "width * n\n",
    "```\n",
    "\n",
    "Variables can also be assigned expressions that may contain variables too.\n",
    "```python\n",
    "area = width * height\n",
    "```\n",
    "\n",
    "Multiple assignments in one line are also possible\n",
    "```python\n",
    "a = b = 3.\n",
    "a, b, c = 1, 2, 3\n",
    "```\n",
    "\n",
    "To inspect the content of an assigned variable, we can use the [`print()`](https://docs.python.org/3/library/functions.html#print) function, to output the content of the variable.\n",
    "```python\n",
    "print(area)\n",
    "print(a, b)\n",
    "```\n",
    "\n",
    "In an interactive session, such as Jupyter Lab, simply putting the variable name on the last line will also output the content of the variable\n",
    "```python\n",
    "# writing the variable name on the last line will also output the variable content\n",
    "c\n",
    "```\n"
   ]
  },
  {
   "cell_type": "markdown",
   "metadata": {},
   "source": [
    "---"
   ]
  },
  {
   "cell_type": "markdown",
   "metadata": {},
   "source": [
    "# Getting Help\n",
    "\n",
    "Reading the documentation of the programming language and software packages frequent task of a programmer.\n",
    "Nobody is expected to memorize all the details on how some function is exactly invoked and the names of all of its arguments.\n",
    "Therefore, it is important to quickly find the information you need to continue to be productive.\n",
    "The [IPython](https://ipython.org/) interpreter that is running under the hood of Python Jupyter kernels offers a very convenient way of accessing documentation to functions, modules, packages or simply assigned variables.\n",
    "Put a question mark `?` right after the name you want to know something about.\n",
    "To learn something about the `print` function, use\n",
    "```python\n",
    "print?\n",
    "```\n",
    "or \n",
    "```python\n",
    "help(print)\n",
    "```\n",
    "\n",
    "To get some information about the variable `area`, do\n",
    "```python\n",
    "area?\n",
    "```\n",
    "\n",
    "When you start to feel comfortable using Python, it is also very beneficial to take a look at the [Python documentation](https://docs.python.org/3/index.html) to get a broader and deeper understanding about the language itself."
   ]
  },
  {
   "cell_type": "markdown",
   "metadata": {},
   "source": [
    "---"
   ]
  },
  {
   "cell_type": "markdown",
   "metadata": {},
   "source": [
    "# Errors\n",
    "\n",
    "Errors and mistakes are an essential part of the programming process.\n",
    "However, one has to distinguish between errors you as a programmer are doing and errors the users of your software might do.\n",
    "Let us concentrate on the first type of errors: coding errors (or bugs).\n",
    "\n",
    "Do not be disappointed if you code does not work at the first time.\n",
    "It almost never does, either because your syntax is not correct (a *syntax error*) or your code tries to do something that is not well-defined (an *exception*)\n",
    "Most languages, and also Python, do have some mechanism to deal with errors that occur during the runtime of the program.\n",
    "If the Python interpreter encounters some error it raises an exception.\n",
    "An exception raised due to a syntax error may look like this"
   ]
  },
  {
   "cell_type": "code",
   "execution_count": 1,
   "metadata": {},
   "outputs": [
    {
     "ename": "SyntaxError",
     "evalue": "invalid syntax (<ipython-input-1-933321c6757f>, line 1)",
     "output_type": "error",
     "traceback": [
      "\u001b[0;36m  File \u001b[0;32m\"<ipython-input-1-933321c6757f>\"\u001b[0;36m, line \u001b[0;32m1\u001b[0m\n\u001b[0;31m    a = 5 when 3 < 9\u001b[0m\n\u001b[0m          ^\u001b[0m\n\u001b[0;31mSyntaxError\u001b[0m\u001b[0;31m:\u001b[0m invalid syntax\n"
     ]
    }
   ],
   "source": [
    "a = 5 when 3 < 9"
   ]
  },
  {
   "cell_type": "markdown",
   "metadata": {},
   "source": [
    "This code raises a `SyntaxError` exception, since Python does not know a `when` key word.\n",
    "The `^` symbol in the output points to the exact location where the syntax is wrong.\n",
    "This greatly helps to find typos in your code.\n",
    "\n",
    "But there are a lot more exceptions, such as arithmetic exceptions, raised if an invalid operation occurs:"
   ]
  },
  {
   "cell_type": "code",
   "execution_count": 2,
   "metadata": {},
   "outputs": [
    {
     "ename": "ZeroDivisionError",
     "evalue": "division by zero",
     "output_type": "error",
     "traceback": [
      "\u001b[0;31m---------------------------------------------------------------------------\u001b[0m",
      "\u001b[0;31mZeroDivisionError\u001b[0m                         Traceback (most recent call last)",
      "\u001b[0;32m<ipython-input-2-51f8442ebea1>\u001b[0m in \u001b[0;36m<module>\u001b[0;34m\u001b[0m\n\u001b[1;32m      1\u001b[0m \u001b[0ma\u001b[0m \u001b[0;34m=\u001b[0m \u001b[0;36m1\u001b[0m\u001b[0;34m\u001b[0m\u001b[0;34m\u001b[0m\u001b[0m\n\u001b[1;32m      2\u001b[0m \u001b[0mb\u001b[0m \u001b[0;34m=\u001b[0m \u001b[0;36m0\u001b[0m\u001b[0;34m\u001b[0m\u001b[0;34m\u001b[0m\u001b[0m\n\u001b[0;32m----> 3\u001b[0;31m \u001b[0mc\u001b[0m \u001b[0;34m=\u001b[0m \u001b[0ma\u001b[0m \u001b[0;34m/\u001b[0m \u001b[0mb\u001b[0m\u001b[0;34m\u001b[0m\u001b[0;34m\u001b[0m\u001b[0m\n\u001b[0m",
      "\u001b[0;31mZeroDivisionError\u001b[0m: division by zero"
     ]
    }
   ],
   "source": [
    "a = 1\n",
    "b = 0\n",
    "c = a / b"
   ]
  },
  {
   "cell_type": "markdown",
   "metadata": {},
   "source": [
    "Here we try to divide by zero which is a not well-defined mathematical operation.\n",
    "Hence, the interpreter complains and in the output the `---->` marks the line in the code where the interpreter raised the exception.\n",
    "Note that in many cases, unlike in this simple example, the occurrence of an exception depends on the conditions at runtime, i.e. when the program is executed.\n",
    "Such conditions could be the data that are fed into the program, which may be different for each execution.\n",
    "\n",
    "Often, when we use functions or packages, the exception is raised inside some function that may not even be part of our own code.\n",
    "To still be able to identify the origin of the issue, the Python interpreter provides a *traceback*, that is a list of all lines that are executed until the program went wrong."
   ]
  },
  {
   "cell_type": "code",
   "execution_count": 22,
   "metadata": {},
   "outputs": [
    {
     "ename": "ZeroDivisionError",
     "evalue": "division by zero",
     "output_type": "error",
     "traceback": [
      "\u001b[0;31m---------------------------------------------------------------------------\u001b[0m",
      "\u001b[0;31mZeroDivisionError\u001b[0m                         Traceback (most recent call last)",
      "\u001b[0;32m<ipython-input-22-bfb4d7ae17ad>\u001b[0m in \u001b[0;36m<module>\u001b[0;34m\u001b[0m\n\u001b[1;32m      6\u001b[0m     \u001b[0;32mreturn\u001b[0m \u001b[0ma\u001b[0m \u001b[0;34m/\u001b[0m \u001b[0mb\u001b[0m\u001b[0;34m\u001b[0m\u001b[0;34m\u001b[0m\u001b[0m\n\u001b[1;32m      7\u001b[0m \u001b[0;34m\u001b[0m\u001b[0m\n\u001b[0;32m----> 8\u001b[0;31m \u001b[0mresult\u001b[0m \u001b[0;34m=\u001b[0m \u001b[0mouter\u001b[0m\u001b[0;34m(\u001b[0m\u001b[0;36m1\u001b[0m\u001b[0;34m,\u001b[0m \u001b[0;36m0\u001b[0m\u001b[0;34m)\u001b[0m\u001b[0;34m\u001b[0m\u001b[0;34m\u001b[0m\u001b[0m\n\u001b[0m",
      "\u001b[0;32m<ipython-input-22-bfb4d7ae17ad>\u001b[0m in \u001b[0;36mouter\u001b[0;34m(a, b)\u001b[0m\n\u001b[1;32m      1\u001b[0m \u001b[0;32mdef\u001b[0m \u001b[0mouter\u001b[0m\u001b[0;34m(\u001b[0m\u001b[0ma\u001b[0m\u001b[0;34m,\u001b[0m \u001b[0mb\u001b[0m\u001b[0;34m)\u001b[0m\u001b[0;34m:\u001b[0m\u001b[0;34m\u001b[0m\u001b[0;34m\u001b[0m\u001b[0m\n\u001b[0;32m----> 2\u001b[0;31m     \u001b[0mc\u001b[0m \u001b[0;34m=\u001b[0m \u001b[0mfunction2\u001b[0m\u001b[0;34m(\u001b[0m\u001b[0ma\u001b[0m\u001b[0;34m,\u001b[0m \u001b[0mb\u001b[0m\u001b[0;34m)\u001b[0m\u001b[0;34m\u001b[0m\u001b[0;34m\u001b[0m\u001b[0m\n\u001b[0m\u001b[1;32m      3\u001b[0m     \u001b[0;32mreturn\u001b[0m \u001b[0mc\u001b[0m\u001b[0;34m\u001b[0m\u001b[0;34m\u001b[0m\u001b[0m\n\u001b[1;32m      4\u001b[0m \u001b[0;34m\u001b[0m\u001b[0m\n\u001b[1;32m      5\u001b[0m \u001b[0;32mdef\u001b[0m \u001b[0minner\u001b[0m\u001b[0;34m(\u001b[0m\u001b[0ma\u001b[0m\u001b[0;34m,\u001b[0m \u001b[0mb\u001b[0m\u001b[0;34m)\u001b[0m\u001b[0;34m:\u001b[0m\u001b[0;34m\u001b[0m\u001b[0;34m\u001b[0m\u001b[0m\n",
      "\u001b[0;32m<ipython-input-21-9e9aa47843e7>\u001b[0m in \u001b[0;36mfunction2\u001b[0;34m(a, b)\u001b[0m\n\u001b[1;32m      4\u001b[0m \u001b[0;34m\u001b[0m\u001b[0m\n\u001b[1;32m      5\u001b[0m \u001b[0;32mdef\u001b[0m \u001b[0mfunction2\u001b[0m\u001b[0;34m(\u001b[0m\u001b[0ma\u001b[0m\u001b[0;34m,\u001b[0m \u001b[0mb\u001b[0m\u001b[0;34m)\u001b[0m\u001b[0;34m:\u001b[0m\u001b[0;34m\u001b[0m\u001b[0;34m\u001b[0m\u001b[0m\n\u001b[0;32m----> 6\u001b[0;31m     \u001b[0;32mreturn\u001b[0m \u001b[0ma\u001b[0m \u001b[0;34m/\u001b[0m \u001b[0mb\u001b[0m\u001b[0;34m\u001b[0m\u001b[0;34m\u001b[0m\u001b[0m\n\u001b[0m\u001b[1;32m      7\u001b[0m \u001b[0;34m\u001b[0m\u001b[0m\n\u001b[1;32m      8\u001b[0m \u001b[0mresult\u001b[0m \u001b[0;34m=\u001b[0m \u001b[0mfunction1\u001b[0m\u001b[0;34m(\u001b[0m\u001b[0;36m1\u001b[0m\u001b[0;34m,\u001b[0m \u001b[0;36m0\u001b[0m\u001b[0;34m)\u001b[0m\u001b[0;34m\u001b[0m\u001b[0;34m\u001b[0m\u001b[0m\n",
      "\u001b[0;31mZeroDivisionError\u001b[0m: division by zero"
     ]
    }
   ],
   "source": [
    "def outer(a, b):\n",
    "    c = function2(a, b)\n",
    "    return c\n",
    "\n",
    "def inner(a, b):\n",
    "    return a / b\n",
    "\n",
    "result = outer(1, 0)"
   ]
  },
  {
   "cell_type": "markdown",
   "metadata": {},
   "source": [
    "In this example, two functions, `outer` and `inner` are defined where `outer` is simply calling `inner` with it's own parameters.\n",
    "In the last line, we call `outer` with the parameters `1` and `0`.\n",
    "In the last block of the traceback, we can see that the exception has been raised within the function `inner`.\n",
    "The second last block tells us, that the function `inner` has been called within the function `outer`.\n",
    "And finally, in the first block we see that the function `outer` has been called in the eighth line of the cell with the arguments `1` and `0`.\n",
    "Hence, a traceback is best read backwards, allowing to trace the occurrence of an error back to it's origin."
   ]
  },
  {
   "cell_type": "markdown",
   "metadata": {},
   "source": [
    "Note that for the syntax error, the output looks different.\n",
    "The reason is that the syntax error is raised while the interpreter reads the source code and before the code is executed.\n",
    "All other exceptions are raised during the execution of the program.\n",
    "See the [Pyhon documentation](https://docs.python.org/3/tutorial/errors.html) to learn more about errors and exceptions and how to deal with them."
   ]
  },
  {
   "cell_type": "markdown",
   "metadata": {},
   "source": [
    "---"
   ]
  },
  {
   "cell_type": "markdown",
   "metadata": {},
   "source": [
    "# Exercise\n",
    "\n",
    "**Answer the following questions:**\n",
    "-   Explain the difference between `/` and `//`?\n",
    "-   Explain the meaning of `a += 5` in your own words\n",
    "\n",
    "**Coding Exercises:**\n",
    "\n",
    "1.  Calculator\n",
    "    -   Compute the square of `40`\n",
    "    -   Compute the square root of `2`\n",
    "    -   write a statement that checks if the cube root of `8` is `2`\n",
    "    \n",
    "1.  Time conversion\n",
    "    -   Write some statements to find out how many full minutes and remaining seconds are 344 seconds?\n",
    "    -   Add precise and brief comments to the code to explain the choice of operators.\n",
    "    -   Assign the number of full minutes and remaining seconds to variables. Use expressive variable names!\n",
    "    -   Use the `print` function for the output of the results\n",
    "\n",
    "1.  Access documentation\n",
    "    -   Output the documentation of the built-in function `abs`."
   ]
  },
  {
   "cell_type": "code",
   "execution_count": null,
   "metadata": {},
   "outputs": [],
   "source": []
  }
 ],
 "metadata": {
  "kernelspec": {
   "display_name": "Python 3",
   "language": "python",
   "name": "python3"
  },
  "language_info": {
   "codemirror_mode": {
    "name": "ipython",
    "version": 3
   },
   "file_extension": ".py",
   "mimetype": "text/x-python",
   "name": "python",
   "nbconvert_exporter": "python",
   "pygments_lexer": "ipython3",
   "version": "3.8.2"
  }
 },
 "nbformat": 4,
 "nbformat_minor": 4
}
