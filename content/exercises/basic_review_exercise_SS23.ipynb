{
 "cells": [
  {
   "cell_type": "code",
   "execution_count": null,
   "id": "c4c2c09d",
   "metadata": {},
   "outputs": [],
   "source": [
    "import numpy as np\n",
    "import matplotlib.pyplot as plt"
   ]
  },
  {
   "cell_type": "markdown",
   "id": "b02c8777",
   "metadata": {},
   "source": [
    "## Review Exercise\n",
    "\n",
    "### Part 1: Answer the questions based on lists, loops and functions"
   ]
  },
  {
   "cell_type": "markdown",
   "id": "3594bd70",
   "metadata": {},
   "source": [
    "1. How do you add the value 5000 after 3000 in the following list<br> <br>\n",
    "   `list1=[1000,2000,3000,1000]` "
   ]
  },
  {
   "cell_type": "code",
   "execution_count": null,
   "id": "9eede403",
   "metadata": {},
   "outputs": [],
   "source": []
  },
  {
   "cell_type": "markdown",
   "id": "7aa1f3ae",
   "metadata": {},
   "source": [
    "2. How do you remove `NaNs` from the following list? <br> <br> list2=['NaN', 21, 30, 'NaN', 27, 13]"
   ]
  },
  {
   "cell_type": "code",
   "execution_count": null,
   "id": "f7ede6a8",
   "metadata": {},
   "outputs": [],
   "source": []
  },
  {
   "cell_type": "markdown",
   "id": "4f5d616d",
   "metadata": {},
   "source": [
    "3. Using a nested `for` loop (a loop inside a loop) print the following output:<br><br>\n",
    "1<br>\n",
    "1 2 <br>\n",
    "1 2 3 <br>\n",
    "1 2 3 4 <br>\n",
    "1 2 3 4 5 <br>"
   ]
  },
  {
   "cell_type": "code",
   "execution_count": null,
   "id": "f9affbfb",
   "metadata": {},
   "outputs": [],
   "source": []
  },
  {
   "cell_type": "markdown",
   "id": "b0d79033",
   "metadata": {},
   "source": [
    "4. Print all the prime numbers between 70 and 121"
   ]
  },
  {
   "cell_type": "code",
   "execution_count": null,
   "id": "72841877",
   "metadata": {
    "scrolled": false
   },
   "outputs": [],
   "source": []
  },
  {
   "cell_type": "markdown",
   "id": "75cdced2",
   "metadata": {},
   "source": [
    "5. Create a function which will return the values of the following list cubed.<br>\n",
    "\n",
    "`list3=[1,2,3,4,5,6,7,8,9,10]`"
   ]
  },
  {
   "cell_type": "code",
   "execution_count": null,
   "id": "b55da2c3",
   "metadata": {},
   "outputs": [],
   "source": []
  },
  {
   "cell_type": "markdown",
   "id": "f275d01f",
   "metadata": {},
   "source": [
    "### Part 2: Coding Exercise\n",
    "\n",
    "\n",
    "**2.a)** Write a function which returns the gravitational accelerations by a body of mass `M`. The gravitational acceleration in given by:\n",
    "\n",
    "$$ a = \\frac{\\Gamma M}{r^2} $$\n",
    "\n",
    "with $\\Gamma = 6,672 \\cdot 10^{-11} \\frac{\\text{m}³}{\\text{kg}\\,\\text{s}²}$ and $r$ is the distance between the two masses.\n",
    "\n",
    "**2.b)** The mass of the Earth is 5.972 × 10<sup>24</sup> kg. The Earth is not a perfect sphere due to its rotation. Its shape can be approximated as an ellipsoid that is slightly flattened at the poles. The radius at the poles is 6357 km and at the equator it is 6378 km. What is the gravitational acceleration at the surface of the Earth at the poles, the equator and in Kiel (check https://rechneronline.de/erdradius/)? \n",
    "\n",
    "**2.c)** The radius of the Earth depends on the latitude (\"Breitengrad\") with the formula given at the above website. We can easily implement that in python, so that we do not need the website. Write a function that calculates the radius of the Earth depending on latitude. Use the trigonometric functions from Numpy (`np.sin, np.cos`). \n",
    "*Hint: Validate your results against those of the website.*\n",
    "\n",
    "\n",
    "**OPTIONAL: 2.d)** Determine the gravitational acceleration for each latitude from the North Pole (90°) to the Equator (0°). Plot your results with latitude on the x axis and g on the y axis. \n",
    "\n"
   ]
  },
  {
   "cell_type": "code",
   "execution_count": null,
   "id": "af889885",
   "metadata": {},
   "outputs": [],
   "source": []
  },
  {
   "cell_type": "code",
   "execution_count": null,
   "id": "34091954",
   "metadata": {},
   "outputs": [],
   "source": []
  }
 ],
 "metadata": {
  "kernelspec": {
   "display_name": "Python 3",
   "language": "python",
   "name": "python3"
  },
  "language_info": {
   "codemirror_mode": {
    "name": "ipython",
    "version": 3
   },
   "file_extension": ".py",
   "mimetype": "text/x-python",
   "name": "python",
   "nbconvert_exporter": "python",
   "pygments_lexer": "ipython3",
   "version": "3.6.9"
  }
 },
 "nbformat": 4,
 "nbformat_minor": 5
}
