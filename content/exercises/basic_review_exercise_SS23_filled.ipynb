{
 "cells": [
  {
   "cell_type": "code",
   "execution_count": 1,
   "id": "c4c2c09d",
   "metadata": {},
   "outputs": [],
   "source": [
    "import numpy as np\n",
    "import matplotlib.pyplot as plt"
   ]
  },
  {
   "cell_type": "markdown",
   "id": "b02c8777",
   "metadata": {},
   "source": [
    "## Review Exercise\n",
    "\n",
    "Part 1: Answer each of the questions based on lists, loops and functions"
   ]
  },
  {
   "cell_type": "markdown",
   "id": "3594bd70",
   "metadata": {},
   "source": [
    "1. How do you add the value 5000 after 3000 in the following list<br> <br>\n",
    "   `list1=[1000,2000,3000,1000]` "
   ]
  },
  {
   "cell_type": "code",
   "execution_count": 2,
   "id": "9eede403",
   "metadata": {},
   "outputs": [
    {
     "name": "stdout",
     "output_type": "stream",
     "text": [
      "[1000, 2000, 3000, 2000, 1000]\n"
     ]
    }
   ],
   "source": [
    "list1=[1000,2000,3000,1000]\n",
    "\n",
    "list1.insert(3,2000)\n",
    "print(list1)"
   ]
  },
  {
   "cell_type": "markdown",
   "id": "7aa1f3ae",
   "metadata": {},
   "source": [
    "2. How do you remove `NaNs` from the following list? <br> <br> list2=['NaN', 21, 30, 'NaN', 27, 13]"
   ]
  },
  {
   "cell_type": "code",
   "execution_count": 3,
   "id": "f7ede6a8",
   "metadata": {},
   "outputs": [
    {
     "name": "stdout",
     "output_type": "stream",
     "text": [
      "[21, 30, 27, 13]\n"
     ]
    }
   ],
   "source": [
    "list2=['NaN', 21,30,'NaN',27,13]\n",
    "\n",
    "while 'NaN' in list2:\n",
    "    list2.remove('NaN')\n",
    "    \n",
    "print(list2)"
   ]
  },
  {
   "cell_type": "markdown",
   "id": "4f5d616d",
   "metadata": {},
   "source": [
    "3. Using a nested `for` loop (a loop inside a loop) print the following output:<br><br>\n",
    "1<br>\n",
    "1 2 <br>\n",
    "1 2 3 <br>\n",
    "1 2 3 4 <br>\n",
    "1 2 3 4 5 <br>"
   ]
  },
  {
   "cell_type": "code",
   "execution_count": 4,
   "id": "f9affbfb",
   "metadata": {},
   "outputs": [
    {
     "name": "stdout",
     "output_type": "stream",
     "text": [
      "\n",
      "1 \n",
      "1 2 \n",
      "1 2 3 \n",
      "1 2 3 4 \n",
      "1 2 3 4 5 \n"
     ]
    }
   ],
   "source": [
    "value = 5 \n",
    "\n",
    "for i in range (0, value+1,1):\n",
    "    for j in range(1,i+1):\n",
    "        print(j, end=' ')\n",
    "    print(\"\")"
   ]
  },
  {
   "cell_type": "markdown",
   "id": "b0d79033",
   "metadata": {},
   "source": [
    "4. Print all the prime numbers between 70 and 121"
   ]
  },
  {
   "cell_type": "code",
   "execution_count": 5,
   "id": "72841877",
   "metadata": {
    "scrolled": false
   },
   "outputs": [
    {
     "name": "stdout",
     "output_type": "stream",
     "text": [
      "The prime numbers between 70 and 121 are:\n",
      "71\n",
      "73\n",
      "79\n",
      "83\n",
      "89\n",
      "97\n",
      "101\n",
      "103\n",
      "107\n",
      "109\n",
      "113\n"
     ]
    }
   ],
   "source": [
    "start=70\n",
    "end=121\n",
    "print('The prime numbers between', start,'and', end, 'are:')\n",
    "\n",
    "for num in range(start, end+1):\n",
    "    if num >1:\n",
    "        for i in range (2, num):\n",
    "            if (num % i) == 0:\n",
    "                break # as number is not a prime number\n",
    "        else: \n",
    "            print(num)"
   ]
  },
  {
   "cell_type": "markdown",
   "id": "75cdced2",
   "metadata": {},
   "source": [
    "5. Create a function which will return the values of the following list cubed.<br>\n",
    "\n",
    "`list3=[1,2,3,4,5,6,7,8,9,10]`"
   ]
  },
  {
   "cell_type": "code",
   "execution_count": 6,
   "id": "b55da2c3",
   "metadata": {},
   "outputs": [
    {
     "name": "stdout",
     "output_type": "stream",
     "text": [
      "[1, 8, 27, 64, 125, 216, 343, 512, 729, 1000]\n"
     ]
    }
   ],
   "source": [
    "def cubing(values):\n",
    "    \"\"\"Function to cube the values in any given list\"\"\"\n",
    "    \n",
    "    # create new list\n",
    "    cubed_list=[]\n",
    "    # loop through given items in list\n",
    "    for i in values:\n",
    "        # append values\n",
    "        cubed_list.append(i**3)\n",
    "    # return new list\n",
    "    return(cubed_list)\n",
    " \n",
    "list3=[1,2,3,4,5,6,7,8,9,10]\n",
    "print(cubing(list3))"
   ]
  },
  {
   "cell_type": "markdown",
   "id": "f275d01f",
   "metadata": {},
   "source": [
    "### Part 2: Coding Exercise\n",
    "\n",
    "\n",
    "**2.a)** Write a function which returns the gravitational accelerations by a body of mass `M`. The gravitational acceleration in given by:\n",
    "\n",
    "$$ a = \\frac{\\Gamma M}{r^2} $$\n",
    "\n",
    "with $\\Gamma = 6,672 \\cdot 10^{-11} \\frac{\\text{m}³}{\\text{kg}\\,\\text{s}²}$ and $r$ is the distance between the two masses.\n",
    "\n",
    "**2.b)** The mass of the Earth is 5.972 × 10<sup>24</sup> kg. The Earth is not a perfect sphere due to its rotation. Its shape can be approximated as an ellipsoid that is slightly flattened at the poles. The radius at the poles is 6357 km and at the equator it is 6378 km. What is the gravitational acceleration at the surface of the Earth at the poles, the equator and in Kiel (check https://rechneronline.de/erdradius/)? \n",
    "\n",
    "**2.c)** The radius of the Earth depends on the latitude (\"Breitengrad\") with the formula given at the above website. We can easily implement that in python, so that we do not need the website. Write a function that calculates the radius of the Earth depending on latitude. Use the trigonometric functions from Numpy (`np.sin, np.cos`). \n",
    "*Hint: Validate your results against those of the website.*\n",
    "\n",
    "\n",
    "**OPTIONAL: 2.d)** Determine the gravitational acceleration for each latitude from the North Pole (90°) to the Equator (0°). Plot your results with latitude on the x axis and g on the y axis. \n",
    "\n"
   ]
  },
  {
   "cell_type": "code",
   "execution_count": 7,
   "id": "af889885",
   "metadata": {},
   "outputs": [
    {
     "name": "stdout",
     "output_type": "stream",
     "text": [
      "g at the poles is 9.85988 m.s.s\n",
      "g at the equator is 9.76747 m.s.s\n",
      "g at Kiel is 10.89672 m.s.s\n",
      "g at 32 degrees latitude is 9.79302 m.s.s, where the radius is 6378660.94 m\n"
     ]
    }
   ],
   "source": [
    "def gravcalc(mass,dist=None,degree=None):\n",
    "    \"\"\" Function which calculates the gravitational acceleration of a body of mass\"\"\"\n",
    "    \n",
    "    # declare constants\n",
    "    G=6.672e-11 #m^3/kgs^2\n",
    "    rp = 6357000 #m\n",
    "    re = 6387000 #m\n",
    "    rk = 6047000 #m\n",
    "    \n",
    "    # if the degree variable is passed to the function...\n",
    "    if degree:\n",
    "        # change to radians\n",
    "        degree=np.deg2rad(degree) \n",
    "        \n",
    "        # calculate radius\n",
    "        R = np.sqrt(((((re**2)*np.cos(degree))**2+((rp**2)*np.sin(degree))**2)/(((re*(np.cos(degree)**2))+(rp*(np.sin(degree)**2)))**2)))\n",
    "        \n",
    "        # calculate a\n",
    "        a = (G*mass)/(R**2)\n",
    "        return a, R\n",
    "    \n",
    "    # if a radius is passed to the function...\n",
    "    elif dist: \n",
    "        # calculate a\n",
    "        a = (G*mass)/(dist**2)\n",
    "        return a\n",
    "    \n",
    "    else:\n",
    "        return \n",
    "\n",
    "mass = 5.972e24\n",
    "rp = 6357000\n",
    "re = 6387000\n",
    "rk = 6047000\n",
    "\n",
    "print('g at the poles is', np.round(gravcalc(mass,dist=rp),5),'m.s.s')\n",
    "print('g at the equator is', np.round(gravcalc(mass,dist=re),5),'m.s.s')\n",
    "print('g at Kiel is', np.round(gravcalc(mass,dist=rk),5),'m.s.s')\n",
    "\n",
    "print('g at 32 degrees latitude is', np.round(gravcalc(mass,degree=32),5)[0],'m.s.s, where the radius is',np.round(gravcalc(mass,0,32),2)[1],'m')"
   ]
  },
  {
   "cell_type": "code",
   "execution_count": 8,
   "id": "1e6ece3d",
   "metadata": {},
   "outputs": [
    {
     "data": {
      "image/png": "[encoded data removed]",
      "text/plain": [
       "<Figure size 640x480 with 1 Axes>"
      ]
     },
     "metadata": {},
     "output_type": "display_data"
    }
   ],
   "source": [
    "# create degrees f=of latitude as a list\n",
    "degrees = np.linspace(1,90,90).tolist()\n",
    "\n",
    "g =[] # store calculated values of g\n",
    "\n",
    "# loop through every degree\n",
    "for i in degrees:\n",
    "    # append calculated value to list\n",
    "    g.append(gravcalc(mass,degree=i)[0])\n",
    "  \n",
    "# plot\n",
    "plt.figure()\n",
    "plt.plot(degrees,g)\n",
    "plt.xlabel('Degrees Latitude')\n",
    "plt.ylabel('Gravitational acceleration (m/s$^2$)')\n",
    "plt.title('Gravitational variation over 90 degrees of latitudes')\n",
    "plt.grid()\n",
    "plt.show()"
   ]
  },
  {
   "cell_type": "code",
   "execution_count": null,
   "id": "c0d9c19d",
   "metadata": {},
   "outputs": [],
   "source": []
  }
 ],
 "metadata": {
  "kernelspec": {
   "display_name": "Python 3 (ipykernel)",
   "language": "python",
   "name": "python3"
  },
  "language_info": {
   "codemirror_mode": {
    "name": "ipython",
    "version": 3
   },
   "file_extension": ".py",
   "mimetype": "text/x-python",
   "name": "python",
   "nbconvert_exporter": "python",
   "pygments_lexer": "ipython3",
   "version": "3.10.6"
  }
 },
 "nbformat": 4,
 "nbformat_minor": 5
}
