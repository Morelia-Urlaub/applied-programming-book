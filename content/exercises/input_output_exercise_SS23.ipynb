{
 "cells": [
  {
   "cell_type": "markdown",
   "metadata": {},
   "source": [
    "# Exercise\n",
    "\n",
    "We will import two different formats of data that are often used in the Earth sciences: simple text data (we have done that already for the temperature and GNSS time series) and data in netCDF format. Once the data is imported, we can use our normal python commands for working with it. "
   ]
  },
  {
   "cell_type": "code",
   "execution_count": null,
   "metadata": {},
   "outputs": [],
   "source": [
    "# Import all the modules that we will need for this exercise\n",
    "import numpy as np\n",
    "import matplotlib.pyplot as plt\n",
    "import pandas as pd\n",
    "import netCDF4 as nc"
   ]
  },
  {
   "cell_type": "markdown",
   "metadata": {},
   "source": [
    "## 1. Text Data\n",
    "-  Load the data from `ue_data/nao_station_monthly.txt`. Note that the file contains missing values. \n",
    "-  Mask every missing value. Therefore you will need the following parameters of the function np.genfromtxt:\n",
    "\n",
    "    -   skip_header\n",
    "    -   missing_values\n",
    "    -   usemask"
   ]
  },
  {
   "cell_type": "code",
   "execution_count": null,
   "metadata": {},
   "outputs": [],
   "source": []
  },
  {
   "cell_type": "markdown",
   "metadata": {},
   "source": [
    "-  Restructure the loaded data as two arrays. Create a time vector (1D-array) called `time` and a 1D data vector called `nao`."
   ]
  },
  {
   "cell_type": "code",
   "execution_count": null,
   "metadata": {},
   "outputs": [],
   "source": []
  },
  {
   "cell_type": "markdown",
   "metadata": {},
   "source": [
    " -  Describe the data in the `nao` variable? (i.e. what is the shape and what is it's physical meaning?)"
   ]
  },
  {
   "cell_type": "code",
   "execution_count": null,
   "metadata": {},
   "outputs": [],
   "source": []
  },
  {
   "cell_type": "markdown",
   "metadata": {},
   "source": [
    " - Plot the NAO index's for the year 2010 and 2015 (*Hint - use np.where to find the index in the time array and use this to find the corresponding value in the nao variable*)."
   ]
  },
  {
   "cell_type": "code",
   "execution_count": null,
   "metadata": {},
   "outputs": [],
   "source": []
  },
  {
   "cell_type": "markdown",
   "metadata": {},
   "source": [
    "#### OPTIONAL\n",
    "-   The NAO index directly correlates to the amount of rainfall and or cold weather experienced in the UK. A large negative index would create very cold conditions. Can you identify which year produced very cold conditions in the winter months (Nov, Dec, Jan)?"
   ]
  },
  {
   "cell_type": "code",
   "execution_count": null,
   "metadata": {},
   "outputs": [],
   "source": []
  },
  {
   "cell_type": "markdown",
   "metadata": {},
   "source": [
    "### Pandas\n",
    "- Open the same nao dataset above, but using the pandas package instead. Use the pandas `read_csv()` function to read the dataset into the notebook as a Pandas DataFrame.\n",
    "   <br> Note: <br> - You can use skiprows to ignore the header <br> - The delimiter has two spaces <br> - You can use `.head()` to view the first 5 entries in the DataFrame"
   ]
  },
  {
   "cell_type": "code",
   "execution_count": null,
   "metadata": {
    "scrolled": true
   },
   "outputs": [],
   "source": []
  },
  {
   "cell_type": "markdown",
   "metadata": {},
   "source": [
    "- Create the variables `time` and `Jan` using the appropriate columns in the DataFrame.  You can use `.iloc[]` to specify the column by index, e.g. `nao.iloc[:,1]`. What data type are these new variables?"
   ]
  },
  {
   "cell_type": "code",
   "execution_count": null,
   "metadata": {},
   "outputs": [],
   "source": []
  },
  {
   "cell_type": "markdown",
   "metadata": {},
   "source": [
    "- Visualise the NAO index for January using `plt.plot` as you have done before. "
   ]
  },
  {
   "cell_type": "code",
   "execution_count": null,
   "metadata": {},
   "outputs": [],
   "source": []
  },
  {
   "cell_type": "markdown",
   "metadata": {},
   "source": [
    "## 2. NetCDF data"
   ]
  },
  {
   "cell_type": "markdown",
   "metadata": {},
   "source": [
    "-   Load the dataset `ue_data/CRUTEM.4.6.0.0.anomalies.nc`\n",
    "-   What information / data is contained in the dataset? Use the print command to get some information about its content. "
   ]
  },
  {
   "cell_type": "code",
   "execution_count": null,
   "metadata": {},
   "outputs": [],
   "source": [
    "import netCDF4 as nc"
   ]
  },
  {
   "cell_type": "markdown",
   "metadata": {},
   "source": [
    "-  Inspect the content of the attributes `dimensions` and `variables`. How long are the dimensions `longitude` and `time`? Which unit and data type does the variable `temperature_anomaly` have and on which dimensions is it defined?"
   ]
  },
  {
   "cell_type": "code",
   "execution_count": null,
   "metadata": {},
   "outputs": [],
   "source": []
  },
  {
   "cell_type": "markdown",
   "metadata": {},
   "source": [
    "-  Read the last time step of the variable `temperature_anomaly` to the memory. What shape do you expect the resulting array to have and why? Which value does this last time step have and what does this mean in terms of the dates that we are normally used to? "
   ]
  },
  {
   "cell_type": "code",
   "execution_count": null,
   "metadata": {},
   "outputs": [],
   "source": []
  },
  {
   "cell_type": "markdown",
   "metadata": {},
   "source": [
    "-   Plot the last time step in map view (see the Applied Programming Book for help). "
   ]
  },
  {
   "cell_type": "code",
   "execution_count": null,
   "metadata": {},
   "outputs": [],
   "source": []
  },
  {
   "cell_type": "markdown",
   "metadata": {},
   "source": [
    "-  Compute the globally averaged temperature anomaly for each time step. (*Note: the data is given in spherical coordinates and to calculate a proper average value the single data points need to be weighted with the cosine of the latitude in radians. We skip this here)*. You may want to use a loop here."
   ]
  },
  {
   "cell_type": "code",
   "execution_count": null,
   "metadata": {},
   "outputs": [],
   "source": []
  },
  {
   "cell_type": "markdown",
   "metadata": {},
   "source": [
    " -   Plot the data to inspect the anomalies over time. "
   ]
  },
  {
   "cell_type": "code",
   "execution_count": null,
   "metadata": {},
   "outputs": [],
   "source": []
  }
 ],
 "metadata": {
  "kernelspec": {
   "display_name": "Python 3 (ipykernel)",
   "language": "python",
   "name": "python3"
  },
  "language_info": {
   "codemirror_mode": {
    "name": "ipython",
    "version": 3
   },
   "file_extension": ".py",
   "mimetype": "text/x-python",
   "name": "python",
   "nbconvert_exporter": "python",
   "pygments_lexer": "ipython3",
   "version": "3.8.10"
  }
 },
 "nbformat": 4,
 "nbformat_minor": 4
}
