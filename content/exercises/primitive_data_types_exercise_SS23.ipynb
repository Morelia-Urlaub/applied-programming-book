{
 "cells": [
  {
   "cell_type": "code",
   "execution_count": null,
   "id": "122e1885",
   "metadata": {},
   "outputs": [],
   "source": [
    "import numpy as np"
   ]
  },
  {
   "cell_type": "markdown",
   "id": "8ce061af",
   "metadata": {},
   "source": [
    "# Exercise 2\n",
    "\n",
    "\n",
    "In the following we will have a closer look at temperature data sets from different locations. Please choose one location and work with this data set. \n",
    "\n",
    "DATA SET 1: Daily temperature in Kiel\n",
    "\n",
    "\n",
    "DATA SET 2: Daily temperature in Antarctica\n",
    "\n",
    "\n",
    "DATA SET 3:Daily temperature in Algiers (Desert)\n",
    "\n",
    "\n",
    "Information on the data: \n",
    "The data are .... "
   ]
  },
  {
   "cell_type": "markdown",
   "id": "eaadffcd",
   "metadata": {},
   "source": [
    "In oder to access and work with the data we first need to read in the data. This is given in the code lines below. Please uncomment only the lines associated to the data set you want to work on and run the code. "
   ]
  },
  {
   "cell_type": "code",
   "execution_count": null,
   "id": "0bb08c4e",
   "metadata": {},
   "outputs": [],
   "source": [
    "# read in ....\n",
    "\n",
    "# Kiel Temperatures\n",
    "#infile = \"../../data/T-Holtenau/data/data_OBS_DEU_P1D_T2M_2564.csv\"\n",
    "#temperature=np.loadtxt(infile, delimiter=';', skiprows=1, usecols=3)\n",
    "\n",
    "# Antarctica Temperatures\n",
    "#infile = \"../../data/IDCJAC0010_300017_1800/IDCJAC0010_300017_1800_Data.csv\"\n",
    "#temperature=np.loadtxt(infile, delimiter=';', skiprows=1, usecols=5)\n",
    "\n",
    "# Death Valley Temperatures\n",
    "#infile=\"../../data/algier(sahara)temperatures.csv\"\n",
    "#temperature=np.loadtxt(infile, delimiter=';',skiprows=1,usecols=1) #in fahrenheit\n",
    "\n",
    "# The temperatures are now stored in the variable called \"temperature\""
   ]
  },
  {
   "cell_type": "markdown",
   "id": "76051a5e",
   "metadata": {},
   "source": [
    "Now have a look at your data. You can access it with the `print`command. "
   ]
  },
  {
   "cell_type": "code",
   "execution_count": null,
   "id": "80f3bd43",
   "metadata": {},
   "outputs": [],
   "source": [
    "temperature"
   ]
  },
  {
   "cell_type": "markdown",
   "id": "452aeb98",
   "metadata": {},
   "source": [
    "Your temperature variable has n entries. You can access any of these by using an index. Just put a number in squared brackets behind the variable. For example to access the 13th entry, type: <br>\n",
    "`print(temperature[12])`<br>\n",
    "To access the first entry, type:<br>\n",
    "`print(temperature[0])`"
   ]
  },
  {
   "cell_type": "code",
   "execution_count": null,
   "id": "153c87a4",
   "metadata": {},
   "outputs": [],
   "source": []
  },
  {
   "cell_type": "markdown",
   "id": "746d6a44",
   "metadata": {},
   "source": [
    "\n",
    "## Answer the following questions using your temperature data\n",
    "\n",
    "\n",
    "-   What data type is `temperature`? "
   ]
  },
  {
   "cell_type": "markdown",
   "id": "6ee46f6f",
   "metadata": {},
   "source": []
  },
  {
   "cell_type": "markdown",
   "id": "7dcfb77a",
   "metadata": {},
   "source": [
    "-   How could you represent one of your temperature values (e.g. 13.4 or choose one entry) as integer? "
   ]
  },
  {
   "cell_type": "code",
   "execution_count": null,
   "id": "7b6a9fe8",
   "metadata": {},
   "outputs": [],
   "source": []
  },
  {
   "cell_type": "markdown",
   "id": "4eadf709",
   "metadata": {},
   "source": [
    "-   Does `int(13.4)` round correctly? Does `int(-3.7)` round correctly? "
   ]
  },
  {
   "cell_type": "code",
   "execution_count": null,
   "id": "b19d187f",
   "metadata": {},
   "outputs": [],
   "source": []
  },
  {
   "cell_type": "markdown",
   "id": "038f963b",
   "metadata": {},
   "source": [
    "-   What does the function `round()`do? What is the difference to `int()`?"
   ]
  },
  {
   "cell_type": "code",
   "execution_count": null,
   "id": "8a480cb4",
   "metadata": {},
   "outputs": [],
   "source": []
  },
  {
   "cell_type": "markdown",
   "id": "bdad8b53",
   "metadata": {},
   "source": [
    "-   What data type is the result of\n",
    "    -   `17 // 3`\n",
    "    -   `17 // 3.`\n",
    "    -   `5. == 5`?"
   ]
  },
  {
   "cell_type": "code",
   "execution_count": null,
   "id": "1b0a2239",
   "metadata": {},
   "outputs": [],
   "source": []
  },
  {
   "cell_type": "markdown",
   "id": "e773648d",
   "metadata": {},
   "source": [
    "-   What do `\\n` and `\\t` mean?"
   ]
  },
  {
   "cell_type": "code",
   "execution_count": null,
   "id": "d47a3083",
   "metadata": {},
   "outputs": [],
   "source": []
  },
  {
   "cell_type": "markdown",
   "id": "8c84e593",
   "metadata": {},
   "source": [
    "-   How does the `format()` method work?"
   ]
  },
  {
   "cell_type": "code",
   "execution_count": null,
   "id": "af95a022",
   "metadata": {},
   "outputs": [],
   "source": []
  },
  {
   "cell_type": "markdown",
   "id": "62fdbd2a",
   "metadata": {},
   "source": [
    "-   How do I check, if a string represents a number?"
   ]
  },
  {
   "cell_type": "code",
   "execution_count": null,
   "id": "6d8a7cc6",
   "metadata": {},
   "outputs": [],
   "source": []
  },
  {
   "cell_type": "markdown",
   "id": "f21a50b2",
   "metadata": {},
   "source": [
    "-   How do I check, if a string ends with a certain chain of characters?"
   ]
  },
  {
   "cell_type": "code",
   "execution_count": null,
   "id": "cdc4973c",
   "metadata": {},
   "outputs": [],
   "source": []
  }
 ],
 "metadata": {
  "kernelspec": {
   "display_name": "Python 3 (ipykernel)",
   "language": "python",
   "name": "python3"
  },
  "language_info": {
   "codemirror_mode": {
    "name": "ipython",
    "version": 3
   },
   "file_extension": ".py",
   "mimetype": "text/x-python",
   "name": "python",
   "nbconvert_exporter": "python",
   "pygments_lexer": "ipython3",
   "version": "3.10.6"
  }
 },
 "nbformat": 4,
 "nbformat_minor": 5
}
