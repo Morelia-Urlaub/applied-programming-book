{
 "cells": [
  {
   "cell_type": "markdown",
   "id": "8ce061af",
   "metadata": {},
   "source": [
    "# Exercise 2\n",
    "\n",
    "\n",
    "In the following we will have a closer look at temperature data sets from different locations. Please choose one location and work with this data set. \n",
    "\n",
    "DATA SET 1: Average daily temperature in Kiel Holtenau from 1.06.1986 until 31.12.2022 in °C\n",
    "\n",
    "\n",
    "DATA SET 2: Maximum daily temperature in Antarctica from 1.1.1989 until 17.4.2023 in °C\n",
    "\n",
    "\n",
    "DATA SET 3: (Almost) daily temperature in Algiers (desert) from 27.11.1992 until 14.04.2023 in Fahrenheit. You can convert the data to °C yourself. Look up the conversion factor and give it a try! \n"
   ]
  },
  {
   "cell_type": "markdown",
   "id": "eaadffcd",
   "metadata": {},
   "source": [
    "In oder to access and work with the data we first need to read in the data. This is given in the code lines below. Please uncomment only the lines associated to the data set you want to work on and run the code. "
   ]
  },
  {
   "cell_type": "code",
   "execution_count": null,
   "id": "0bb08c4e",
   "metadata": {},
   "outputs": [],
   "source": [
    "# this imports the python module numpy, which is necessary to load the data. We'll get to that later! \n",
    "import numpy as np\n",
    "\n",
    "\n",
    "# Uncomment the following two lines if you want to look at Kiel temperatures\n",
    "#infile = \"../../data/T-Holtenau/data/data_OBS_DEU_P1D_T2M_2564.csv\"\n",
    "#temperature=np.loadtxt(infile, delimiter=';', skiprows=1, usecols=3)\n",
    "\n",
    "# Uncomment the following two lines if you want to look at Antarctica temperatures\n",
    "#infile = \"../../data/IDCJAC0010_300017_1800/IDCJAC0010_300017_1800_Data.csv\"\n",
    "#temperature=np.loadtxt(infile, delimiter=';', skiprows=1, usecols=5)\n",
    "\n",
    "# Uncomment the following two lines if you want to look at Death Valley temperatures. \n",
    "#infile=\"../../data/algier(sahara)temperatures.csv\"\n",
    "#temperature=np.loadtxt(infile, delimiter=';',skiprows=1,usecols=1) \n",
    "# Add a new line of code to convert the data to °C if you want\n"
   ]
  },
  {
   "cell_type": "markdown",
   "id": "76051a5e",
   "metadata": {},
   "source": [
    "The temperatures are now stored in the variable called `temperature`. Now have a look at your data. You can access it with the `print`command. "
   ]
  },
  {
   "cell_type": "code",
   "execution_count": null,
   "id": "80f3bd43",
   "metadata": {},
   "outputs": [],
   "source": []
  },
  {
   "cell_type": "markdown",
   "id": "452aeb98",
   "metadata": {},
   "source": [
    "The temperature variable has a large number of entries and the print command only gives the first and last few entries. \n",
    "\n",
    "You can access any entry by using an index. Just put a number in squared brackets behind the variable. For example to access the 13th entry, type: <br>\n",
    "`print(temperature[12])`<br>\n",
    "To access the first entry, type:<br>\n",
    "`print(temperature[0])`\n",
    "\n",
    "Make yourself familiar with the range of temperatures in your location by randomly accessing entries. "
   ]
  },
  {
   "cell_type": "code",
   "execution_count": null,
   "id": "153c87a4",
   "metadata": {},
   "outputs": [],
   "source": []
  },
  {
   "cell_type": "markdown",
   "id": "746d6a44",
   "metadata": {},
   "source": [
    "\n",
    "## Answer the following questions using your temperature data\n",
    "\n",
    "\n",
    "Note: When answering you may want to change between markdown / code cells\n",
    "\n",
    "-   What data type is `temperature`? "
   ]
  },
  {
   "cell_type": "markdown",
   "id": "6ee46f6f",
   "metadata": {},
   "source": []
  },
  {
   "cell_type": "markdown",
   "id": "77f4ed2c",
   "metadata": {},
   "source": [
    "-   What was the maximum temperature in your location? "
   ]
  },
  {
   "cell_type": "code",
   "execution_count": null,
   "id": "ddca92af",
   "metadata": {},
   "outputs": [],
   "source": []
  },
  {
   "cell_type": "markdown",
   "id": "af12be6c",
   "metadata": {},
   "source": [
    "-   What was the minimum temperature in your location? "
   ]
  },
  {
   "cell_type": "code",
   "execution_count": null,
   "id": "b9061cae",
   "metadata": {},
   "outputs": [],
   "source": []
  },
  {
   "cell_type": "markdown",
   "id": "5efe0d19",
   "metadata": {},
   "source": [
    "-   Is the first entry larger, smaller or equal to the last entry? Use Booleans to find out! <br>*Note: You can access the last entry using `temperature[-1]`*"
   ]
  },
  {
   "cell_type": "code",
   "execution_count": null,
   "id": "149f1e9d",
   "metadata": {},
   "outputs": [],
   "source": []
  },
  {
   "cell_type": "markdown",
   "id": "7dcfb77a",
   "metadata": {},
   "source": [
    "-   How could you represent your temperature values (choose one entry) as integer? "
   ]
  },
  {
   "cell_type": "code",
   "execution_count": null,
   "id": "7b6a9fe8",
   "metadata": {},
   "outputs": [],
   "source": []
  },
  {
   "cell_type": "markdown",
   "id": "d2b1dad5",
   "metadata": {},
   "source": [
    "-   Can you think of a situation when it would make sense to represent the temperature values as integer? "
   ]
  },
  {
   "cell_type": "markdown",
   "id": "b33ca3ad",
   "metadata": {},
   "source": []
  },
  {
   "cell_type": "markdown",
   "id": "4eadf709",
   "metadata": {},
   "source": [
    "-   Does `int(13.4)` round correctly? Does `int(-3.7)` round correctly? "
   ]
  },
  {
   "cell_type": "code",
   "execution_count": null,
   "id": "b19d187f",
   "metadata": {},
   "outputs": [],
   "source": []
  },
  {
   "cell_type": "markdown",
   "id": "038f963b",
   "metadata": {},
   "source": [
    "-   What does the function `round()`do? What is the difference to `int()`?"
   ]
  },
  {
   "cell_type": "code",
   "execution_count": null,
   "id": "8a480cb4",
   "metadata": {},
   "outputs": [],
   "source": []
  },
  {
   "cell_type": "markdown",
   "id": "bdad8b53",
   "metadata": {},
   "source": [
    "-   What data type is the result of\n",
    "    -   `17 // 3`\n",
    "    -   `17 // 3.`\n",
    "    -   `5. == 5`?"
   ]
  },
  {
   "cell_type": "code",
   "execution_count": null,
   "id": "1b0a2239",
   "metadata": {},
   "outputs": [],
   "source": []
  },
  {
   "cell_type": "markdown",
   "id": "e773648d",
   "metadata": {},
   "source": [
    "-   What do `\\n` and `\\t` mean?"
   ]
  },
  {
   "cell_type": "code",
   "execution_count": null,
   "id": "d47a3083",
   "metadata": {},
   "outputs": [],
   "source": []
  },
  {
   "cell_type": "markdown",
   "id": "8c84e593",
   "metadata": {},
   "source": [
    "-   How does the `format()` method work?"
   ]
  },
  {
   "cell_type": "code",
   "execution_count": null,
   "id": "af95a022",
   "metadata": {},
   "outputs": [],
   "source": []
  },
  {
   "cell_type": "markdown",
   "id": "62fdbd2a",
   "metadata": {},
   "source": [
    "-   How do I check, if a string represents a number?"
   ]
  },
  {
   "cell_type": "code",
   "execution_count": null,
   "id": "6d8a7cc6",
   "metadata": {},
   "outputs": [],
   "source": []
  },
  {
   "cell_type": "markdown",
   "id": "f21a50b2",
   "metadata": {},
   "source": [
    "-   How do I check, if a string ends with a certain chain of characters?"
   ]
  },
  {
   "cell_type": "code",
   "execution_count": null,
   "id": "cdc4973c",
   "metadata": {},
   "outputs": [],
   "source": []
  }
 ],
 "metadata": {
  "kernelspec": {
   "display_name": "Python 3",
   "language": "python",
   "name": "python3"
  },
  "language_info": {
   "codemirror_mode": {
    "name": "ipython",
    "version": 3
   },
   "file_extension": ".py",
   "mimetype": "text/x-python",
   "name": "python",
   "nbconvert_exporter": "python",
   "pygments_lexer": "ipython3",
   "version": "3.6.9"
  }
 },
 "nbformat": 4,
 "nbformat_minor": 5
}
