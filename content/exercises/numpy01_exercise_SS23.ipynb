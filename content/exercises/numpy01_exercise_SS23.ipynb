{
 "cells": [
  {
   "cell_type": "markdown",
   "id": "a336d7c5",
   "metadata": {},
   "source": [
    "## Exercise \n",
    "\n",
    "We will deal with geodetic data today - that is, time series recorded by two GNSS (also known as GPS) stations from an active volcano: Cumbre Vieja on the island of La Palma (Canary Islands). The GNSS station records its position once a day with a very high precision and stores it as East, North and vertical (also called up) components. The changes of the individual components thus indicate the change in the position of the station. \n",
    "\n",
    "1. Load the data using the `np.loadtxt` command that we used previously to load the temperature data. The two files are stored in `ue_data/GNSS_LaPalma/`. The loadtxt command automatically stores the data in arrays (unless `.tolist()` is used which we do not need here). Consider that the command therefore cannot load mixed data types. \n",
    "\n",
    "2. How many days are in the record? How many entries are in the array in total? \n",
    "\n",
    "3. Create an array of the same shape that contains only zeros. Transpose this new array.\n",
    "\n",
    "4. What is the data type in the array?\n",
    "\n",
    "5. What was the up-component on the 22 May 2020 (line 1561 (LP01) and 3203 (MAZO) in the data files)? What was the horizontal component (square root of the sum of the east and north components squared) on that day? \n",
    "\n",
    "6. Calculate the horizontal component for all days and add it to the original array. Create a new empty array and use a loop to calculate the values and fill in the empty array. Search online for a way to append the new array to the original array. \n",
    "\n",
    "7. Compute the mean, variance and standard deviation of each of the components.\n",
    "\n",
    "8. Can you create a three dimensional array that stores both stations? If not, why not?"
   ]
  },
  {
   "cell_type": "code",
   "execution_count": 4,
   "id": "ccb47888",
   "metadata": {},
   "outputs": [],
   "source": [
    "import numpy as np\n",
    "\n",
    "# La Palma GNSS 1 \n",
    "\n",
    "\n",
    "# La Palma GNSS 2\n"
   ]
  }
 ],
 "metadata": {
  "kernelspec": {
   "display_name": "Python 3 (ipykernel)",
   "language": "python",
   "name": "python3"
  },
  "language_info": {
   "codemirror_mode": {
    "name": "ipython",
    "version": 3
   },
   "file_extension": ".py",
   "mimetype": "text/x-python",
   "name": "python",
   "nbconvert_exporter": "python",
   "pygments_lexer": "ipython3",
   "version": "3.8.10"
  }
 },
 "nbformat": 4,
 "nbformat_minor": 5
}
