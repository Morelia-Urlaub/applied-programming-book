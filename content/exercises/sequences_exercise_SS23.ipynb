{
 "cells": [
  {
   "cell_type": "markdown",
   "metadata": {},
   "source": [
    "# Exercise"
   ]
  },
  {
   "cell_type": "markdown",
   "metadata": {},
   "source": [
    "## 1. Work on temperature data\n",
    "\n",
    "We continue to work with the temperature data sets from last week (except that we skip the desert one). Load the data set of your choice again into the variable `temperature`. In the homework you learnt that variables that store more than one value are also referred to as *lists*. <br>\n",
    "\n",
    "DATA SET 1: Average daily temperature in Kiel Holtenau from 1.06.1986 until 31.12.2022 in °C <br>\n",
    "DATA SET 2: Maximum daily temperature in Antarctica from 1.1.1989 until 17.4.2023 in °C <br<"
   ]
  },
  {
   "cell_type": "code",
   "execution_count": null,
   "metadata": {},
   "outputs": [],
   "source": [
    "# this imports the python module numpy, which is necessary to load the data. We'll get to that later! \n",
    "import numpy as np\n",
    "\n",
    "# Uncomment the following two lines if you want to look at Kiel temperatures\n",
    "#infile = \"../../data/T-Holtenau/data/data_OBS_DEU_P1D_T2M_2564.csv\"\n",
    "#temperature=np.loadtxt(infile, delimiter=';', skiprows=1, usecols=3).tolist()\n",
    "\n",
    "# Uncomment the following two lines if you want to look at Antarctica temperatures\n",
    "#infile = \"../../data/IDCJAC0010_300017_1800/IDCJAC0010_300017_1800_Data.csv\"\n",
    "#temperature=np.loadtxt(infile, delimiter=';', skiprows=1, usecols=5).tolist()"
   ]
  },
  {
   "cell_type": "markdown",
   "metadata": {},
   "source": [
    "Last week you got familiar with roughly how many entries there are and what the daily temperatures were. You also identified the minimum and maximum temperature values in your data.  <br>\n",
    "Today, we are interested in the the long-term changes. Therefore, we want to compare the temperature from one full year from the beginning of the time series (Kiel: 1987, Antarctica: 1989) and the end of the time series (2022). <br> \n",
    "\n",
    "1. Create two new lists (one for the first full year, one for the last full year of the record) by slicing the original data set `temperature` appropriately. Remember that these are daily temperatures, meaning that one entry is for one day. The start and end date of the temperature records is given above. <br> \n"
   ]
  },
  {
   "cell_type": "code",
   "execution_count": null,
   "metadata": {},
   "outputs": [],
   "source": []
  },
  {
   "cell_type": "markdown",
   "metadata": {},
   "source": [
    "2. What were the maximum, minimum and average temperatures of the two years? Output them with the `print` command in an understandable way. <br> "
   ]
  },
  {
   "cell_type": "code",
   "execution_count": null,
   "metadata": {},
   "outputs": [],
   "source": []
  },
  {
   "cell_type": "markdown",
   "metadata": {},
   "source": [
    "3. In which month of the year were the maximum and minimum temperatures reached? Print the result. Hint: You need to find out the *index* of the value, i.e. which of the 0:364 entries are the min/max values. Try to *softcode* this task. This means that the code would work for any entry of the respective list (not only specific ones). <br> "
   ]
  },
  {
   "cell_type": "code",
   "execution_count": null,
   "metadata": {},
   "outputs": [],
   "source": []
  },
  {
   "cell_type": "markdown",
   "metadata": {},
   "source": [
    "#### OPTIONAL\n",
    "\n",
    "4. On what day of the year were the maximum and minimum temperatures reached?\n",
    "\n",
    "5. In what year, month, and day were the extreme (minimum and maximum) values of the entire record reached? "
   ]
  },
  {
   "cell_type": "code",
   "execution_count": null,
   "metadata": {},
   "outputs": [],
   "source": []
  },
  {
   "cell_type": "markdown",
   "metadata": {},
   "source": [
    "## 2. Answer the Questions"
   ]
  },
  {
   "cell_type": "markdown",
   "metadata": {},
   "source": [
    "-  What is the length of `s[n:m]`?"
   ]
  },
  {
   "cell_type": "markdown",
   "metadata": {},
   "source": []
  },
  {
   "cell_type": "markdown",
   "metadata": {},
   "source": [
    "-  Which of the following types are `mutable` and which `immutable`: `float`, `string`, `list`, `tuple`, `complex`, `integer`?"
   ]
  },
  {
   "cell_type": "markdown",
   "metadata": {},
   "source": []
  },
  {
   "cell_type": "markdown",
   "metadata": {},
   "source": [
    "-  Why is\n",
    "```python\n",
    "a = [1, 2, 3]\n",
    "b = a\n",
    "a is b == True\n",
    "```\n",
    "   but\n",
    "```python\n",
    "a = [1, 2, 3]\n",
    "b = [1, 2, 3]\n",
    "a is b == False\n",
    "```"
   ]
  },
  {
   "cell_type": "markdown",
   "metadata": {},
   "source": []
  },
  {
   "cell_type": "markdown",
   "metadata": {},
   "source": [
    "## 3. Coding exercises"
   ]
  },
  {
   "cell_type": "markdown",
   "metadata": {},
   "source": [
    "-  Try to build the string `\"Gooooooooooooooooal\"` out of the string `\"Goal\"`"
   ]
  },
  {
   "cell_type": "code",
   "execution_count": null,
   "metadata": {},
   "outputs": [],
   "source": []
  },
  {
   "cell_type": "markdown",
   "metadata": {},
   "source": [
    "-  Create a list that consists of the squares of all numbers between 0 and 5. Then manipulate this list by doing the following\n",
    "   1. remove the last element of the list\n",
    "   2. set the second element to `2`\n",
    "   3. add three additional elements of your choice to the end of the list\n",
    "   4. add one element to the beginning of the list\n",
    "   5. print the number of elements that have a value of `0`"
   ]
  },
  {
   "cell_type": "code",
   "execution_count": null,
   "metadata": {},
   "outputs": [],
   "source": []
  }
 ],
 "metadata": {
  "kernelspec": {
   "display_name": "Python 3",
   "language": "python",
   "name": "python3"
  },
  "language_info": {
   "codemirror_mode": {
    "name": "ipython",
    "version": 3
   },
   "file_extension": ".py",
   "mimetype": "text/x-python",
   "name": "python",
   "nbconvert_exporter": "python",
   "pygments_lexer": "ipython3",
   "version": "3.6.9"
  }
 },
 "nbformat": 4,
 "nbformat_minor": 4
}
