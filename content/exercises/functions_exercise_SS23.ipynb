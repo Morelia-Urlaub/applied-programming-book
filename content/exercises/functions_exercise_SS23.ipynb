{
 "cells": [
  {
   "cell_type": "code",
   "execution_count": null,
   "id": "58802f0b",
   "metadata": {},
   "outputs": [],
   "source": [
    "import numpy as np\n",
    "import matplotlib.pyplot as plt"
   ]
  },
  {
   "cell_type": "markdown",
   "id": "8ad8dfba",
   "metadata": {},
   "source": [
    "## Exercise\n",
    "\n",
    "This exercises builds on what you completed in the last exercise by making use of functions.\n",
    "\n",
    "*Why?*\n",
    "This can be a helpful tool when you are dealing with multiple datasets and want to repeat tasks on them. It can save time and make your code <b>reusable</b>."
   ]
  },
  {
   "cell_type": "code",
   "execution_count": null,
   "id": "dbeb43c9",
   "metadata": {},
   "outputs": [],
   "source": [
    "# this imports the python module numpy, which is necessary to load the data. We'll get to that later! \n",
    "import numpy as np\n",
    "\n",
    "# Kiel temperatures\n",
    "infile = \"ue_data/data_OBS_DEU_P1D_T2M_2564.csv\"\n",
    "t_Kiel=np.loadtxt(infile, delimiter=';', skiprows=1, usecols=3).tolist()\n",
    "\n",
    "# Antarctica temperatures\n",
    "infile = \"uedata/IDCJAC0010_300017_1800_Data.csv\"\n",
    "t_Ant=np.loadtxt(infile, delimiter=';', skiprows=1, usecols=5).tolist()"
   ]
  },
  {
   "cell_type": "markdown",
   "id": "20ddc02b",
   "metadata": {},
   "source": [
    "## 1. Temperature gradients\n"
   ]
  },
  {
   "cell_type": "markdown",
   "id": "8973cc65",
   "metadata": {},
   "source": [
    "Create a simple function to calculate the temperature gradient"
   ]
  },
  {
   "cell_type": "code",
   "execution_count": null,
   "id": "b866d73a",
   "metadata": {},
   "outputs": [],
   "source": [
    "def t_grad(temp1, temp2):\n",
    "    \"\"\" Function to calculate the difference between data in a list \"\"\"\n",
    "    return # add some code here to calculate the temperature gradient"
   ]
  },
  {
   "cell_type": "markdown",
   "id": "6cd7652d",
   "metadata": {},
   "source": [
    "Now write a code that calculates the temperature gradients for both Kiel and Antarctica making use of above function.<br>\n",
    "*Hint: Use loops to calculate the temperature gradients and call your function t_grad from inside the loops.*"
   ]
  },
  {
   "cell_type": "code",
   "execution_count": null,
   "id": "9f75222b",
   "metadata": {},
   "outputs": [],
   "source": [
    "# Antarctica gradient\n",
    "A_grad = []\n",
    "\n",
    "# initiate loop...\n",
    "\n",
    "# Kiel gradient\n",
    "K_grad = []\n",
    "\n",
    "#initiate loop ...\n"
   ]
  },
  {
   "cell_type": "code",
   "execution_count": null,
   "id": "99bd151a",
   "metadata": {},
   "outputs": [],
   "source": [
    "# visualise the different gradients\n",
    "fig=plt.figure(figsize=(8,4))\n",
    "\n",
    "# plot data\n",
    "plt.plot(A_grads,label='Antarctica',alpha=0.9)\n",
    "plt.plot(K_grads,'k',label='Kiel', alpha=0.75)\n",
    "plt.legend()\n",
    "\n",
    "# add x and y annotations\n",
    "plt.xlabel('Number of days in the record')\n",
    "plt.ylabel('Temperature ($^\\circ$C)')\n",
    "\n",
    "plt.show()"
   ]
  },
  {
   "cell_type": "markdown",
   "id": "6593110c",
   "metadata": {},
   "source": [
    "## 2. Unusual Years Part 2"
   ]
  },
  {
   "cell_type": "markdown",
   "id": "d81f6ab8",
   "metadata": {},
   "source": [
    "Subdivide your temperature data into each year and create a function which will determine whether a year has 365 or 366 days in it. Modify your solution from last week to include this function and see if you can identify these unusual years with high and low temperatures. If you are not happy with you solution from last week you can have a look at the example solution given in the `programflow_structure_example.ipynb` Notebook. \n",
    "\n",
    "*Hints*<br>\n",
    "- if statements in the leap year function could help\n",
    "- logical operators can help determine the conditions for a leap year, e.g. <b>and</b>, <b>or</b>"
   ]
  },
  {
   "cell_type": "code",
   "execution_count": null,
   "id": "7e744db3",
   "metadata": {},
   "outputs": [],
   "source": [
    "def leap_year(#...):\n",
    "    \"\"\"Function to determine whether one year is a leap year \"\"\"\n",
    "    # your code\n",
    "    return #..."
   ]
  },
  {
   "cell_type": "code",
   "execution_count": null,
   "id": "3612291a",
   "metadata": {},
   "outputs": [],
   "source": [
    "# your code to subdivide temperature data into years....\n"
   ]
  },
  {
   "cell_type": "markdown",
   "id": "f3caaef0",
   "metadata": {},
   "source": [
    "### Optional\n",
    "Write a function that plots the Kiel and Antarctica data and create these plots. \n",
    "\n",
    "*Suggestions:*<br>\n",
    " - You want to pass your data to the plotting function\n",
    " - You want to define standard things, such as axis labels inside the function\n",
    " - You may want to pass in other parameters to the function, such as plot title"
   ]
  },
  {
   "cell_type": "code",
   "execution_count": null,
   "id": "5b4e57bb",
   "metadata": {},
   "outputs": [],
   "source": [
    "def plot_temps(#add some variables to pass in here):\n",
    "    \"\"\" Simple plotting function to show temperature data\"\"\"\n",
    "    # add the code you need to plot...\n",
    "    \n",
    "    return "
   ]
  },
  {
   "cell_type": "code",
   "execution_count": null,
   "id": "d0347850",
   "metadata": {},
   "outputs": [],
   "source": [
    "# call the function"
   ]
  }
 ],
 "metadata": {
  "kernelspec": {
   "display_name": "Python 3 (ipykernel)",
   "language": "python",
   "name": "python3"
  },
  "language_info": {
   "codemirror_mode": {
    "name": "ipython",
    "version": 3
   },
   "file_extension": ".py",
   "mimetype": "text/x-python",
   "name": "python",
   "nbconvert_exporter": "python",
   "pygments_lexer": "ipython3",
   "version": "3.8.10"
  }
 },
 "nbformat": 4,
 "nbformat_minor": 5
}
